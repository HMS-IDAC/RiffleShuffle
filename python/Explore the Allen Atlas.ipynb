{
 "cells": [
  {
   "cell_type": "markdown",
   "metadata": {},
   "source": [
    "# Exploring the Allen Brain SDK\n",
    "---\n",
    "\n",
    "This is a guide notebook to explore and download the anatomical data from the Allen Brain Institute SDK.\n",
    "\n",
    "\n",
    "### Installation:\n",
    "You can install the SDK in a python (3.7) environment by using:\n",
    "\n",
    "    pip install allensdk"
   ]
  },
  {
   "cell_type": "code",
   "execution_count": 5,
   "metadata": {},
   "outputs": [],
   "source": [
    "import pandas as pd\n",
    "import numpy as np"
   ]
  },
  {
   "cell_type": "markdown",
   "metadata": {},
   "source": [
    "## Constructing a StructureTree\n",
    "\n",
    "A StructureTree object is a wrapper around a structure graph - a list of dictionaries documenting brain structures and their containment relationships. To build a structure tree, you will first need to obtain a structure graph. The `ReferenceSpaceCache` takes care of that for you.\n",
    "\n",
    "For a list of atlases and corresponding structure graph ids, see [here](http://help.brain-map.org/display/api/Atlas+Drawings+and+Ontologies)."
   ]
  },
  {
   "cell_type": "code",
   "execution_count": 2,
   "metadata": {},
   "outputs": [],
   "source": [
    "from allensdk.core.reference_space_cache import ReferenceSpaceCache\n",
    "\n",
    "reference_space_key = 'annotation/ccf_2017'\n",
    "resolution = 25\n",
    "rspc = ReferenceSpaceCache(resolution, reference_space_key, manifest='manifest.json')\n",
    "# ID 1 is the adult mouse structure graph\n",
    "tree = rspc.get_structure_tree(structure_graph_id=1) "
   ]
  },
  {
   "cell_type": "markdown",
   "metadata": {},
   "source": [
    "The fields contained in a StructureTree are:\n",
    "    \n",
    "* **acronym**: a shortened name for the structure\n",
    "* **rgb_triplet**: each structure is assigned a consistent color for visualizations\n",
    "* **graph_id**: the structure graph to which this structure belongs\n",
    "* **graph_order**: each structure is assigned a consistent position in the flattened graph\n",
    "* **id**: a unique integer identifier\n",
    "* **name**: the full name of the structure\n",
    "* **structure_id_path**: traces a path from the root node of the tree to this structure\n",
    "* **structure_set_ids**: the structure belongs to these predefined groups"
   ]
  },
  {
   "cell_type": "code",
   "execution_count": null,
   "metadata": {},
   "outputs": [],
   "source": []
  },
  {
   "cell_type": "code",
   "execution_count": null,
   "metadata": {},
   "outputs": [],
   "source": [
    "# Download the CCF template at the specified resolution (npArray)\n",
    "template, meta_templ = rspc.get_template_volume()\n",
    "# Download the CCF annotation volume at the specified resolution (npArray)\n",
    "annotation, meta_annot = rspc.get_annotation_volume()"
   ]
  },
  {
   "cell_type": "code",
   "execution_count": null,
   "metadata": {},
   "outputs": [],
   "source": [
    "###"
   ]
  },
  {
   "cell_type": "code",
   "execution_count": null,
   "metadata": {},
   "outputs": [],
   "source": [
    "from allensdk.api.queries.ontologies_api import OntologiesApi\n",
    "\n",
    "oapi = OntologiesApi()\n",
    "\n",
    "# get the ids of all the structure sets in the tree\n",
    "structure_set_ids = structure_tree.get_structure_sets()\n",
    "\n",
    "# query the API for information on those structure sets\n",
    "pd.DataFrame(oapi.get_structure_sets(structure_set_ids))"
   ]
  }
 ],
 "metadata": {
  "kernelspec": {
   "display_name": "Python 3",
   "language": "python",
   "name": "python3"
  },
  "language_info": {
   "codemirror_mode": {
    "name": "ipython",
    "version": 3
   },
   "file_extension": ".py",
   "mimetype": "text/x-python",
   "name": "python",
   "nbconvert_exporter": "python",
   "pygments_lexer": "ipython3",
   "version": "3.7.9"
  }
 },
 "nbformat": 4,
 "nbformat_minor": 4
}
